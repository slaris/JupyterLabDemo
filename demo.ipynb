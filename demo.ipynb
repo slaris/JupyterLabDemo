{
 "cells": [
  {
   "cell_type": "markdown",
   "metadata": {},
   "source": [
    "## 判断的综合使用"
   ]
  },
  {
   "cell_type": "markdown",
   "metadata": {},
   "source": [
    "### 一道与判断有关的题目"
   ]
  },
  {
   "cell_type": "markdown",
   "metadata": {},
   "source": [
    "纳税是关系到国计民生的大问题。你知道吗？我们在纳税时不同收入的人，纳税的比率也不一样。如果你学习过数学中的**分段函数**，就会发现，我们可以使用如下公式表示：\n",
    "\\begin{equation}\n",
    "    f(x)=\\left\\{\n",
    "        \\begin{aligned}\n",
    "            3\\%x, & & 0 < x \\leq 1500 \\\\\n",
    "            5\\%(x-1500), & & 1500 < x \\leq 4500 \\\\\n",
    "            20\\%(x-4500), & & 4500 < x \\leq 9000 \\\\\n",
    "            25\\%(x-9000), & & 9000 < x \\leq 35000 \\\\\n",
    "            30\\%(x-35000), & & 35000 < x \\leq 55000 \\\\\n",
    "            35\\%(x-55000), & & 55000 < x \\leq 80000 \\\\\n",
    "            45\\%(x-80000), & & 80000 < x\n",
    "        \\end{aligned}\n",
    "    \\right.\n",
    "\\end{equation}\n",
    "其中，$x$表示收入金额，而$f(x)$则表示应缴纳的税额。\n",
    "\n",
    "你能设计一段Python程序，帮助用户计算个人所得税吗？\n",
    "\n",
    "**要求：**\n",
    "- 用户自己输入收入数额；\n",
    "- 系统自动计算个人所得税；\n",
    "- 系统需要显示必要的信息帮助用户进行操作。"
   ]
  },
  {
   "cell_type": "markdown",
   "metadata": {},
   "source": [
    "### 请在下方输入Python此程序"
   ]
  },
  {
   "cell_type": "code",
   "execution_count": 2,
   "metadata": {},
   "outputs": [
    {
     "name": "stdin",
     "output_type": "stream",
     "text": [
      "请输入您的收入： 4567\n"
     ]
    },
    {
     "name": "stdout",
     "output_type": "stream",
     "text": [
      "你应缴纳的数额是： 208.4\n"
     ]
    }
   ],
   "source": [
    "# income表示用户的输入数额\n",
    "income = eval(input(\"请输入您的收入：\"))\n",
    "\n",
    "# tax表示应当缴纳的税额数值，初始化为0\n",
    "tax = 0\n",
    "\n",
    "if income <= 1500:\n",
    "    tax = income * 0.03\n",
    "elif 1500 < income <= 4500:\n",
    "    tax = 1500 * 0.03 + (income - 1500) * 0.05\n",
    "elif 4500 < income <= 9000:\n",
    "    tax = 1500 * 0.03 + (4500 - 1500) * 0.05 + (income - 4500) * 0.2\n",
    "elif 9000 < income <= 35000:\n",
    "    tax = 1500 * 0.03 + (4500 - 1500) * 0.05 + (9000 - 4500) * 0.2 + (income - 9000) * 0.25\n",
    "# 你能将程序补充完整吗？\n",
    "\n",
    "# 打印应缴纳的税额数值\n",
    "print(\"你应缴纳的数额是：\", tax)"
   ]
  },
  {
   "cell_type": "markdown",
   "metadata": {},
   "source": [
    "### 问题"
   ]
  },
  {
   "cell_type": "markdown",
   "metadata": {},
   "source": [
    "为什么在计算收入在$4500<income\\leq 9000$时，应缴纳的税额的Python语句是：\n",
    "```python\n",
    "tax = 1500 * 0.03 + (4500 - 1500) * 0.05 + (income - 4500) * 0.2\n",
    "```\n",
    "其中，\n",
    "- 1500 * 0.03计算的是哪部分的税额？\n",
    "- (4500 - 1500) * 0.05计算的是哪部分的税额？\n",
    "- (income - 4500) * 0.2计算的是哪部分的税额？"
   ]
  },
  {
   "cell_type": "code",
   "execution_count": null,
   "metadata": {},
   "outputs": [],
   "source": []
  }
 ],
 "metadata": {
  "kernelspec": {
   "display_name": "Python 3",
   "language": "python",
   "name": "python3"
  },
  "language_info": {
   "codemirror_mode": {
    "name": "ipython",
    "version": 3
   },
   "file_extension": ".py",
   "mimetype": "text/x-python",
   "name": "python",
   "nbconvert_exporter": "python",
   "pygments_lexer": "ipython3",
   "version": "3.6.5"
  }
 },
 "nbformat": 4,
 "nbformat_minor": 2
}
